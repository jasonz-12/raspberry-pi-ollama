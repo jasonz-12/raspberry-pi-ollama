{
 "cells": [
  {
   "cell_type": "code",
   "execution_count": 1,
   "metadata": {},
   "outputs": [
    {
     "name": "stdout",
     "output_type": "stream",
     "text": [
      "The sky appears blue to us because of a phenomenon called Rayleigh scattering, named after the British physicist Lord Rayleigh, who first described it in the late 19th century. Here's a simplified explanation:\n",
      "\n",
      "When sunlight enters Earth's atmosphere, it encounters tiny molecules of gases such as nitrogen (N2) and oxygen (O2). These molecules are much smaller than the wavelength of light, which means they scatter the light in all directions.\n",
      "\n",
      "The shorter wavelengths of light, like blue and violet, are scattered more than the longer wavelengths, like red and orange. This is because the smaller molecules have a greater tendency to absorb and scatter the shorter wavelengths.\n",
      "\n",
      "As a result, the blue light is dispersed throughout the atmosphere, giving the sky its blue color. The exact shade of blue can vary depending on atmospheric conditions, such as pollution, dust, and water vapor, but overall, the scattering effect dominates.\n",
      "\n",
      "It's worth noting that during sunrise and sunset, the sky often appears red or orange due to a phenomenon called Mie scattering, which occurs when shorter wavelengths of light are scattered by larger particles in the atmosphere. However, this is not why the entire sky appears blue during these times.\n",
      "\n",
      "I hope that helps you understand why the sky is blue!\n",
      "The sky appears blue to us because of a phenomenon called Rayleigh scattering, named after the British physicist Lord Rayleigh, who first described it in the late 19th century. Here's a simplified explanation:\n",
      "\n",
      "When sunlight enters Earth's atmosphere, it encounters tiny molecules of gases such as nitrogen (N2) and oxygen (O2). These molecules are much smaller than the wavelength of light, which means they scatter the light in all directions.\n",
      "\n",
      "The shorter wavelengths of light, like blue and violet, are scattered more than the longer wavelengths, like red and orange. This is because the smaller molecules have a greater tendency to absorb and scatter the shorter wavelengths.\n",
      "\n",
      "As a result, the blue light is dispersed throughout the atmosphere, giving the sky its blue color. The exact shade of blue can vary depending on atmospheric conditions, such as pollution, dust, and water vapor, but overall, the scattering effect dominates.\n",
      "\n",
      "It's worth noting that during sunrise and sunset, the sky often appears red or orange due to a phenomenon called Mie scattering, which occurs when shorter wavelengths of light are scattered by larger particles in the atmosphere. However, this is not why the entire sky appears blue during these times.\n",
      "\n",
      "I hope that helps you understand why the sky is blue!\n"
     ]
    }
   ],
   "source": [
    "from ollama import chat\n",
    "from ollama import ChatResponse\n",
    "\n",
    "response: ChatResponse = chat(model='llama3.2:1b', messages=[\n",
    "  {\n",
    "    'role': 'user',\n",
    "    'content': 'Why is the sky blue?',\n",
    "  },\n",
    "])\n",
    "print(response['message']['content'])\n",
    "# or access fields directly from the response object\n",
    "print(response.message.content)"
   ]
  },
  {
   "cell_type": "code",
   "execution_count": 3,
   "metadata": {},
   "outputs": [
    {
     "name": "stderr",
     "output_type": "stream",
     "text": [
      "/opt/anaconda3/lib/python3.9/site-packages/whisper/transcribe.py:115: UserWarning: FP16 is not supported on CPU; using FP32 instead\n",
      "  warnings.warn(\"FP16 is not supported on CPU; using FP32 instead\")\n"
     ]
    },
    {
     "name": "stdout",
     "output_type": "stream",
     "text": [
      "Transcription:  How are you?\n"
     ]
    }
   ],
   "source": [
    "import whisper\n",
    "\n",
    "# Load the model\n",
    "model = whisper.load_model(\"tiny\")  # Options: tiny, base, small, medium, large\n",
    "\n",
    "# Transcribe an audio file\n",
    "result = model.transcribe(\"./audio/speech.mp3\")  # Replace with your audio file path\n",
    "\n",
    "# Print the result\n",
    "print(\"Transcription:\", result['text'])"
   ]
  },
  {
   "cell_type": "code",
   "execution_count": null,
   "metadata": {},
   "outputs": [],
   "source": []
  },
  {
   "cell_type": "code",
   "execution_count": null,
   "metadata": {},
   "outputs": [],
   "source": []
  }
 ],
 "metadata": {
  "kernelspec": {
   "display_name": "Python 3",
   "language": "python",
   "name": "python3"
  },
  "language_info": {
   "codemirror_mode": {
    "name": "ipython",
    "version": 3
   },
   "file_extension": ".py",
   "mimetype": "text/x-python",
   "name": "python",
   "nbconvert_exporter": "python",
   "pygments_lexer": "ipython3",
   "version": "3.9.12"
  }
 },
 "nbformat": 4,
 "nbformat_minor": 2
}
